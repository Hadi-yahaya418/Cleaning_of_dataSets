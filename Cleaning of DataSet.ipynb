{
 "cells": [
  {
   "cell_type": "markdown",
   "metadata": {},
   "source": [
    "<h1><strong>Cleaning Of Data Sets Using Python</strong></h1>"
   ]
  },
  {
   "cell_type": "markdown",
   "metadata": {},
   "source": [
    "<h2><strong>Loading The Required Libraries</strong></h2>"
   ]
  },
  {
   "cell_type": "code",
   "execution_count": 43,
   "metadata": {},
   "outputs": [],
   "source": [
    "import pandas as pd\n",
    "import numpy as np\n",
    "import matplotlib.pyplot as plt\n",
    "import seaborn as sns "
   ]
  },
  {
   "cell_type": "markdown",
   "metadata": {},
   "source": [
    "<h2><strong>Loading The Required Datasets</strong></h2>"
   ]
  },
  {
   "cell_type": "code",
   "execution_count": 44,
   "metadata": {},
   "outputs": [],
   "source": [
    "data_df = pd.read_csv(r\"C:\\Users\\USER\\Documents\\Course Work\\Data Analysis Projects\\data.csv\")\n",
    "imdb_df = pd.read_csv(r\"C:\\Users\\USER\\Documents\\Course Work\\Data Analysis Projects\\imdb_movie_dataset.csv\")"
   ]
  },
  {
   "cell_type": "markdown",
   "metadata": {},
   "source": [
    "<h2><strong>Checking Each DataSet</strong></h2>"
   ]
  },
  {
   "cell_type": "code",
   "execution_count": 45,
   "metadata": {},
   "outputs": [
    {
     "data": {
      "text/html": [
       "<div>\n",
       "<style scoped>\n",
       "    .dataframe tbody tr th:only-of-type {\n",
       "        vertical-align: middle;\n",
       "    }\n",
       "\n",
       "    .dataframe tbody tr th {\n",
       "        vertical-align: top;\n",
       "    }\n",
       "\n",
       "    .dataframe thead th {\n",
       "        text-align: right;\n",
       "    }\n",
       "</style>\n",
       "<table border=\"1\" class=\"dataframe\">\n",
       "  <thead>\n",
       "    <tr style=\"text-align: right;\">\n",
       "      <th></th>\n",
       "      <th>title</th>\n",
       "      <th>type</th>\n",
       "      <th>genres</th>\n",
       "      <th>releaseYear</th>\n",
       "      <th>imdbId</th>\n",
       "      <th>imdbAverageRating</th>\n",
       "      <th>imdbNumVotes</th>\n",
       "      <th>availableCountries</th>\n",
       "    </tr>\n",
       "  </thead>\n",
       "  <tbody>\n",
       "    <tr>\n",
       "      <th>0</th>\n",
       "      <td>Blondie</td>\n",
       "      <td>movie</td>\n",
       "      <td>Comedy, Family</td>\n",
       "      <td>1938.0</td>\n",
       "      <td>tt0029927</td>\n",
       "      <td>6.9</td>\n",
       "      <td>886.0</td>\n",
       "      <td>US, ZA</td>\n",
       "    </tr>\n",
       "    <tr>\n",
       "      <th>1</th>\n",
       "      <td>Ariel</td>\n",
       "      <td>movie</td>\n",
       "      <td>Comedy, Crime, Romance</td>\n",
       "      <td>1988.0</td>\n",
       "      <td>tt0094675</td>\n",
       "      <td>7.4</td>\n",
       "      <td>8754.0</td>\n",
       "      <td>JP</td>\n",
       "    </tr>\n",
       "    <tr>\n",
       "      <th>2</th>\n",
       "      <td>Four Rooms</td>\n",
       "      <td>movie</td>\n",
       "      <td>Comedy</td>\n",
       "      <td>1995.0</td>\n",
       "      <td>tt0113101</td>\n",
       "      <td>6.7</td>\n",
       "      <td>112548.0</td>\n",
       "      <td>AT, DE</td>\n",
       "    </tr>\n",
       "    <tr>\n",
       "      <th>3</th>\n",
       "      <td>Judgment Night</td>\n",
       "      <td>movie</td>\n",
       "      <td>Action, Crime, Drama</td>\n",
       "      <td>1993.0</td>\n",
       "      <td>tt0107286</td>\n",
       "      <td>6.6</td>\n",
       "      <td>19290.0</td>\n",
       "      <td>US</td>\n",
       "    </tr>\n",
       "    <tr>\n",
       "      <th>4</th>\n",
       "      <td>Forrest Gump</td>\n",
       "      <td>movie</td>\n",
       "      <td>Drama, Romance</td>\n",
       "      <td>1994.0</td>\n",
       "      <td>tt0109830</td>\n",
       "      <td>8.8</td>\n",
       "      <td>2315889.0</td>\n",
       "      <td>AD, AT, CU, DE, IN, JP, SN</td>\n",
       "    </tr>\n",
       "  </tbody>\n",
       "</table>\n",
       "</div>"
      ],
      "text/plain": [
       "            title   type                  genres  releaseYear     imdbId  \\\n",
       "0         Blondie  movie          Comedy, Family       1938.0  tt0029927   \n",
       "1           Ariel  movie  Comedy, Crime, Romance       1988.0  tt0094675   \n",
       "2      Four Rooms  movie                  Comedy       1995.0  tt0113101   \n",
       "3  Judgment Night  movie    Action, Crime, Drama       1993.0  tt0107286   \n",
       "4    Forrest Gump  movie          Drama, Romance       1994.0  tt0109830   \n",
       "\n",
       "   imdbAverageRating  imdbNumVotes          availableCountries  \n",
       "0                6.9         886.0                      US, ZA  \n",
       "1                7.4        8754.0                          JP  \n",
       "2                6.7      112548.0                      AT, DE  \n",
       "3                6.6       19290.0                          US  \n",
       "4                8.8     2315889.0  AD, AT, CU, DE, IN, JP, SN  "
      ]
     },
     "execution_count": 45,
     "metadata": {},
     "output_type": "execute_result"
    }
   ],
   "source": [
    "data_df.head()\n"
   ]
  },
  {
   "cell_type": "code",
   "execution_count": 46,
   "metadata": {},
   "outputs": [
    {
     "data": {
      "text/html": [
       "<div>\n",
       "<style scoped>\n",
       "    .dataframe tbody tr th:only-of-type {\n",
       "        vertical-align: middle;\n",
       "    }\n",
       "\n",
       "    .dataframe tbody tr th {\n",
       "        vertical-align: top;\n",
       "    }\n",
       "\n",
       "    .dataframe thead th {\n",
       "        text-align: right;\n",
       "    }\n",
       "</style>\n",
       "<table border=\"1\" class=\"dataframe\">\n",
       "  <thead>\n",
       "    <tr style=\"text-align: right;\">\n",
       "      <th></th>\n",
       "      <th>Rank</th>\n",
       "      <th>Title</th>\n",
       "      <th>Genre</th>\n",
       "      <th>Description</th>\n",
       "      <th>Director</th>\n",
       "      <th>Actors</th>\n",
       "      <th>Year</th>\n",
       "      <th>Runtime (Minutes)</th>\n",
       "      <th>Rating</th>\n",
       "      <th>Votes</th>\n",
       "      <th>Revenue (Millions)</th>\n",
       "      <th>Metascore</th>\n",
       "    </tr>\n",
       "  </thead>\n",
       "  <tbody>\n",
       "    <tr>\n",
       "      <th>0</th>\n",
       "      <td>1</td>\n",
       "      <td>Guardians of the Galaxy</td>\n",
       "      <td>Action,Adventure,Sci-Fi</td>\n",
       "      <td>A group of intergalactic criminals are forced ...</td>\n",
       "      <td>James Gunn</td>\n",
       "      <td>Chris Pratt, Vin Diesel, Bradley Cooper, Zoe S...</td>\n",
       "      <td>2014</td>\n",
       "      <td>121</td>\n",
       "      <td>8.1</td>\n",
       "      <td>757074</td>\n",
       "      <td>333.13</td>\n",
       "      <td>76.0</td>\n",
       "    </tr>\n",
       "    <tr>\n",
       "      <th>1</th>\n",
       "      <td>2</td>\n",
       "      <td>Prometheus</td>\n",
       "      <td>Adventure,Mystery,Sci-Fi</td>\n",
       "      <td>Following clues to the origin of mankind, a te...</td>\n",
       "      <td>Ridley Scott</td>\n",
       "      <td>Noomi Rapace, Logan Marshall-Green, Michael Fa...</td>\n",
       "      <td>2012</td>\n",
       "      <td>124</td>\n",
       "      <td>7.0</td>\n",
       "      <td>485820</td>\n",
       "      <td>126.46</td>\n",
       "      <td>65.0</td>\n",
       "    </tr>\n",
       "    <tr>\n",
       "      <th>2</th>\n",
       "      <td>3</td>\n",
       "      <td>Split</td>\n",
       "      <td>Horror,Thriller</td>\n",
       "      <td>Three girls are kidnapped by a man with a diag...</td>\n",
       "      <td>M. Night Shyamalan</td>\n",
       "      <td>James McAvoy, Anya Taylor-Joy, Haley Lu Richar...</td>\n",
       "      <td>2016</td>\n",
       "      <td>117</td>\n",
       "      <td>7.3</td>\n",
       "      <td>157606</td>\n",
       "      <td>138.12</td>\n",
       "      <td>62.0</td>\n",
       "    </tr>\n",
       "    <tr>\n",
       "      <th>3</th>\n",
       "      <td>4</td>\n",
       "      <td>Sing</td>\n",
       "      <td>Animation,Comedy,Family</td>\n",
       "      <td>In a city of humanoid animals, a hustling thea...</td>\n",
       "      <td>Christophe Lourdelet</td>\n",
       "      <td>Matthew McConaughey,Reese Witherspoon, Seth Ma...</td>\n",
       "      <td>2016</td>\n",
       "      <td>108</td>\n",
       "      <td>7.2</td>\n",
       "      <td>60545</td>\n",
       "      <td>270.32</td>\n",
       "      <td>59.0</td>\n",
       "    </tr>\n",
       "    <tr>\n",
       "      <th>4</th>\n",
       "      <td>5</td>\n",
       "      <td>Suicide Squad</td>\n",
       "      <td>Action,Adventure,Fantasy</td>\n",
       "      <td>A secret government agency recruits some of th...</td>\n",
       "      <td>David Ayer</td>\n",
       "      <td>Will Smith, Jared Leto, Margot Robbie, Viola D...</td>\n",
       "      <td>2016</td>\n",
       "      <td>123</td>\n",
       "      <td>6.2</td>\n",
       "      <td>393727</td>\n",
       "      <td>325.02</td>\n",
       "      <td>40.0</td>\n",
       "    </tr>\n",
       "  </tbody>\n",
       "</table>\n",
       "</div>"
      ],
      "text/plain": [
       "   Rank                    Title                     Genre  \\\n",
       "0     1  Guardians of the Galaxy   Action,Adventure,Sci-Fi   \n",
       "1     2               Prometheus  Adventure,Mystery,Sci-Fi   \n",
       "2     3                    Split           Horror,Thriller   \n",
       "3     4                     Sing   Animation,Comedy,Family   \n",
       "4     5            Suicide Squad  Action,Adventure,Fantasy   \n",
       "\n",
       "                                         Description              Director  \\\n",
       "0  A group of intergalactic criminals are forced ...            James Gunn   \n",
       "1  Following clues to the origin of mankind, a te...          Ridley Scott   \n",
       "2  Three girls are kidnapped by a man with a diag...    M. Night Shyamalan   \n",
       "3  In a city of humanoid animals, a hustling thea...  Christophe Lourdelet   \n",
       "4  A secret government agency recruits some of th...            David Ayer   \n",
       "\n",
       "                                              Actors  Year  Runtime (Minutes)  \\\n",
       "0  Chris Pratt, Vin Diesel, Bradley Cooper, Zoe S...  2014                121   \n",
       "1  Noomi Rapace, Logan Marshall-Green, Michael Fa...  2012                124   \n",
       "2  James McAvoy, Anya Taylor-Joy, Haley Lu Richar...  2016                117   \n",
       "3  Matthew McConaughey,Reese Witherspoon, Seth Ma...  2016                108   \n",
       "4  Will Smith, Jared Leto, Margot Robbie, Viola D...  2016                123   \n",
       "\n",
       "   Rating   Votes  Revenue (Millions)  Metascore  \n",
       "0     8.1  757074              333.13       76.0  \n",
       "1     7.0  485820              126.46       65.0  \n",
       "2     7.3  157606              138.12       62.0  \n",
       "3     7.2   60545              270.32       59.0  \n",
       "4     6.2  393727              325.02       40.0  "
      ]
     },
     "execution_count": 46,
     "metadata": {},
     "output_type": "execute_result"
    }
   ],
   "source": [
    "imdb_df.head()"
   ]
  },
  {
   "cell_type": "markdown",
   "metadata": {},
   "source": [
    "<h2><strong>Finally, Cleaning Of The DataSets</strong></h2>"
   ]
  },
  {
   "cell_type": "code",
   "execution_count": 47,
   "metadata": {},
   "outputs": [
    {
     "data": {
      "text/plain": [
       "title                 1480\n",
       "type                     0\n",
       "genres                1811\n",
       "releaseYear            168\n",
       "imdbId                5618\n",
       "imdbAverageRating     7741\n",
       "imdbNumVotes          7741\n",
       "availableCountries       0\n",
       "dtype: int64"
      ]
     },
     "execution_count": 47,
     "metadata": {},
     "output_type": "execute_result"
    }
   ],
   "source": [
    "data_df.isnull().sum()\n"
   ]
  },
  {
   "cell_type": "code",
   "execution_count": 48,
   "metadata": {},
   "outputs": [
    {
     "data": {
      "text/plain": [
       "Rank                    0\n",
       "Title                   0\n",
       "Genre                   0\n",
       "Description             0\n",
       "Director                0\n",
       "Actors                  0\n",
       "Year                    0\n",
       "Runtime (Minutes)       0\n",
       "Rating                  0\n",
       "Votes                   0\n",
       "Revenue (Millions)    128\n",
       "Metascore              64\n",
       "dtype: int64"
      ]
     },
     "execution_count": 48,
     "metadata": {},
     "output_type": "execute_result"
    }
   ],
   "source": [
    "imdb_df.isnull().sum()"
   ]
  },
  {
   "cell_type": "code",
   "execution_count": 49,
   "metadata": {},
   "outputs": [],
   "source": [
    "data_df.dropna(inplace=True)"
   ]
  },
  {
   "cell_type": "code",
   "execution_count": 50,
   "metadata": {},
   "outputs": [],
   "source": [
    "imdb_df.dropna(inplace=True)"
   ]
  },
  {
   "cell_type": "code",
   "execution_count": 51,
   "metadata": {},
   "outputs": [
    {
     "data": {
      "text/plain": [
       "0        False\n",
       "1        False\n",
       "2        False\n",
       "3        False\n",
       "4        False\n",
       "         ...  \n",
       "67025    False\n",
       "67027    False\n",
       "67029    False\n",
       "67035    False\n",
       "67040    False\n",
       "Length: 59254, dtype: bool"
      ]
     },
     "execution_count": 51,
     "metadata": {},
     "output_type": "execute_result"
    }
   ],
   "source": [
    "data_df.duplicated()"
   ]
  },
  {
   "cell_type": "code",
   "execution_count": 52,
   "metadata": {},
   "outputs": [
    {
     "data": {
      "text/plain": [
       "0      False\n",
       "1      False\n",
       "2      False\n",
       "3      False\n",
       "4      False\n",
       "       ...  \n",
       "993    False\n",
       "994    False\n",
       "996    False\n",
       "997    False\n",
       "999    False\n",
       "Length: 838, dtype: bool"
      ]
     },
     "execution_count": 52,
     "metadata": {},
     "output_type": "execute_result"
    }
   ],
   "source": [
    "imdb_df.duplicated()"
   ]
  },
  {
   "cell_type": "code",
   "execution_count": 53,
   "metadata": {},
   "outputs": [],
   "source": [
    "data_df.drop_duplicates(inplace=True)"
   ]
  },
  {
   "cell_type": "code",
   "execution_count": 54,
   "metadata": {},
   "outputs": [],
   "source": [
    "imdb_df.drop_duplicates(inplace=True)"
   ]
  },
  {
   "cell_type": "code",
   "execution_count": 55,
   "metadata": {},
   "outputs": [],
   "source": [
    "data_df['releaseYear'] = np.round(data_df['releaseYear']).astype(int)\n",
    "data_df['imdbNumVotes'] = np.round(data_df['imdbNumVotes']).astype(int)"
   ]
  },
  {
   "cell_type": "code",
   "execution_count": 56,
   "metadata": {},
   "outputs": [
    {
     "name": "stdout",
     "output_type": "stream",
     "text": [
      "<class 'pandas.core.frame.DataFrame'>\n",
      "Index: 59254 entries, 0 to 67040\n",
      "Data columns (total 8 columns):\n",
      " #   Column              Non-Null Count  Dtype  \n",
      "---  ------              --------------  -----  \n",
      " 0   title               59254 non-null  object \n",
      " 1   type                59254 non-null  object \n",
      " 2   genres              59254 non-null  object \n",
      " 3   releaseYear         59254 non-null  int64  \n",
      " 4   imdbId              59254 non-null  object \n",
      " 5   imdbAverageRating   59254 non-null  float64\n",
      " 6   imdbNumVotes        59254 non-null  int64  \n",
      " 7   availableCountries  59254 non-null  object \n",
      "dtypes: float64(1), int64(2), object(5)\n",
      "memory usage: 4.1+ MB\n"
     ]
    }
   ],
   "source": [
    "data_df.info()"
   ]
  },
  {
   "cell_type": "code",
   "execution_count": 57,
   "metadata": {},
   "outputs": [
    {
     "name": "stdout",
     "output_type": "stream",
     "text": [
      "<class 'pandas.core.frame.DataFrame'>\n",
      "Index: 838 entries, 0 to 999\n",
      "Data columns (total 12 columns):\n",
      " #   Column              Non-Null Count  Dtype  \n",
      "---  ------              --------------  -----  \n",
      " 0   Rank                838 non-null    int64  \n",
      " 1   Title               838 non-null    object \n",
      " 2   Genre               838 non-null    object \n",
      " 3   Description         838 non-null    object \n",
      " 4   Director            838 non-null    object \n",
      " 5   Actors              838 non-null    object \n",
      " 6   Year                838 non-null    int64  \n",
      " 7   Runtime (Minutes)   838 non-null    int64  \n",
      " 8   Rating              838 non-null    float64\n",
      " 9   Votes               838 non-null    int64  \n",
      " 10  Revenue (Millions)  838 non-null    float64\n",
      " 11  Metascore           838 non-null    float64\n",
      "dtypes: float64(3), int64(4), object(5)\n",
      "memory usage: 85.1+ KB\n"
     ]
    }
   ],
   "source": [
    "imdb_df.info()"
   ]
  },
  {
   "cell_type": "code",
   "execution_count": 62,
   "metadata": {},
   "outputs": [],
   "source": [
    "data_df = data_df.rename(columns={'title':'Title'})"
   ]
  },
  {
   "cell_type": "code",
   "execution_count": 61,
   "metadata": {},
   "outputs": [
    {
     "name": "stdout",
     "output_type": "stream",
     "text": [
      "<class 'pandas.core.frame.DataFrame'>\n",
      "Index: 59254 entries, 0 to 67040\n",
      "Data columns (total 8 columns):\n",
      " #   Column              Non-Null Count  Dtype  \n",
      "---  ------              --------------  -----  \n",
      " 0   title               59254 non-null  object \n",
      " 1   type                59254 non-null  object \n",
      " 2   genres              59254 non-null  object \n",
      " 3   releaseYear         59254 non-null  int64  \n",
      " 4   imdbId              59254 non-null  object \n",
      " 5   imdbAverageRating   59254 non-null  float64\n",
      " 6   imdbNumVotes        59254 non-null  int64  \n",
      " 7   availableCountries  59254 non-null  object \n",
      "dtypes: float64(1), int64(2), object(5)\n",
      "memory usage: 4.1+ MB\n"
     ]
    }
   ],
   "source": [
    "data_df.info()"
   ]
  },
  {
   "cell_type": "code",
   "execution_count": 64,
   "metadata": {},
   "outputs": [
    {
     "name": "stdout",
     "output_type": "stream",
     "text": [
      "                                                 Title   type  \\\n",
      "0                                      The Dark Knight  movie   \n",
      "1                                  Lucky Number Slevin  movie   \n",
      "2                         Sin City: A Dame to Kill For  movie   \n",
      "3    Indiana Jones and the Kingdom of the Crystal S...  movie   \n",
      "4                                     Ocean's Thirteen  movie   \n",
      "..                                                 ...    ...   \n",
      "827                          What We Do in the Shadows     tv   \n",
      "828                                    Vampire Academy     tv   \n",
      "829                                          Moonlight     tv   \n",
      "830                                              Enemy     tv   \n",
      "831                                   Marie Antoinette     tv   \n",
      "\n",
      "                        genres  releaseYear      imdbId  imdbAverageRating  \\\n",
      "0         Action, Crime, Drama         2008   tt0468569                9.0   \n",
      "1       Crime, Drama, Thriller         2006   tt0425210                7.7   \n",
      "2      Action, Crime, Thriller         2014   tt0458481                6.5   \n",
      "3            Action, Adventure         2008   tt0367882                6.2   \n",
      "4              Crime, Thriller         2007   tt0496806                6.9   \n",
      "..                         ...          ...         ...                ...   \n",
      "827    Comedy, Fantasy, Horror         2019   tt7908628                8.6   \n",
      "828             Drama, Fantasy         2022  tt14689620                6.4   \n",
      "829     Comedy, Drama, Romance         2021  tt14818618                7.2   \n",
      "830             Drama, Mystery         2021  tt16606418                7.5   \n",
      "831  Biography, Drama, History         2022  tt15384074                7.3   \n",
      "\n",
      "     imdbNumVotes                                 availableCountries  Rank  \\\n",
      "0         2941101  AD, CH, CI, DK, FI, FR, GF, GH, IN, IT, JP, KE...    55   \n",
      "1          329296  AR, AU, BO, CA, CO, CR, DO, GB, GG, GT, HN, IE...   960   \n",
      "2          172589                 AD, AT, BR, DE, FR, GF, MC, PF, PT   427   \n",
      "3          497014     AD, FR, GB, GF, GG, GI, IE, JP, MC, PF, PT, US   768   \n",
      "4          372625         CI, GH, IN, JP, KE, MZ, NE, NG, UG, ZA, ZM   908   \n",
      "..            ...                                                ...   ...   \n",
      "827        109463                                         AT, CH, DE   381   \n",
      "828          9302                                 AD, FR, GF, MC, PF   650   \n",
      "829           171                                         GB, GG, US    42   \n",
      "830            54                                         GB, GG, US   468   \n",
      "831          3218                                                 NL   472   \n",
      "\n",
      "                        Genre  \\\n",
      "0          Action,Crime,Drama   \n",
      "1         Crime,Drama,Mystery   \n",
      "2       Action,Crime,Thriller   \n",
      "3    Action,Adventure,Fantasy   \n",
      "4              Crime,Thriller   \n",
      "..                        ...   \n",
      "827     Comedy,Fantasy,Horror   \n",
      "828     Action,Comedy,Fantasy   \n",
      "829                     Drama   \n",
      "830          Mystery,Thriller   \n",
      "831   Biography,Drama,History   \n",
      "\n",
      "                                           Description           Director  \\\n",
      "0    When the menace known as the Joker wreaks havo...  Christopher Nolan   \n",
      "1    A case of mistaken identity lands Slevin into ...      Paul McGuigan   \n",
      "2    Some of Sin City's most hard-boiled citizens c...       Frank Miller   \n",
      "3    Famed archaeologist/adventurer Dr. Henry \"Indi...   Steven Spielberg   \n",
      "4    Danny Ocean rounds up the boys for a third hei...  Steven Soderbergh   \n",
      "..                                                 ...                ...   \n",
      "827  A documentary team films the lives of a group ...    Jemaine Clement   \n",
      "828  Rose Hathaway is a Dhampir, half human-half va...        Mark Waters   \n",
      "829  A chronicle of the childhood, adolescence and ...      Barry Jenkins   \n",
      "830  A man seeks out his exact look-alike after spo...   Denis Villeneuve   \n",
      "831  The retelling of France's iconic but ill-fated...      Sofia Coppola   \n",
      "\n",
      "                                                Actors  Year  \\\n",
      "0    Christian Bale, Heath Ledger, Aaron Eckhart,Mi...  2008   \n",
      "1    Josh Hartnett, Ben Kingsley, Morgan Freeman, L...  2006   \n",
      "2    Mickey Rourke, Jessica Alba, Josh Brolin, Jose...  2014   \n",
      "3    Harrison Ford, Cate Blanchett, Shia LaBeouf,Ka...  2008   \n",
      "4    George Clooney, Brad Pitt, Matt Damon,Michael ...  2007   \n",
      "..                                                 ...   ...   \n",
      "827  Jemaine Clement, Taika Waititi,Cori Gonzalez-M...  2014   \n",
      "828  Zoey Deutch, Lucy Fry, Danila Kozlovsky, Gabri...  2014   \n",
      "829  Mahershala Ali, Shariff Earp, Duan Sanderson, ...  2016   \n",
      "830  Jake Gyllenhaal, Mélanie Laurent, Sarah Gadon,...  2013   \n",
      "831  Kirsten Dunst, Jason Schwartzman, Rip Torn, Ju...  2006   \n",
      "\n",
      "     Runtime (Minutes)  Rating    Votes  Revenue (Millions)  Metascore  \n",
      "0                  152     9.0  1791916              533.32       82.0  \n",
      "1                  110     7.8   271940               22.49       53.0  \n",
      "2                  102     6.5   122185               13.75       46.0  \n",
      "3                  122     6.2   351361              317.01       65.0  \n",
      "4                  122     6.9   269581              117.14       62.0  \n",
      "..                 ...     ...      ...                 ...        ...  \n",
      "827                 86     7.6    84016                3.33       76.0  \n",
      "828                104     5.6    44111                7.79       30.0  \n",
      "829                111     7.5   135095               27.85       99.0  \n",
      "830                 91     6.9   111558                1.01       61.0  \n",
      "831                123     6.4    83941               15.96       65.0  \n",
      "\n",
      "[832 rows x 19 columns]\n"
     ]
    }
   ],
   "source": [
    "merged_df = pd.merge(data_df,imdb_df, on='Title', how='inner')\n",
    "print(merged_df)"
   ]
  },
  {
   "cell_type": "code",
   "execution_count": 67,
   "metadata": {},
   "outputs": [],
   "source": [
    "merged_df.fillna({'IMBd Average Rating':0, 'IMBd Number of Votes':0, 'Runtime (Minutes)':0}, inplace=True)"
   ]
  }
 ],
 "metadata": {
  "kernelspec": {
   "display_name": "Python 3",
   "language": "python",
   "name": "python3"
  },
  "language_info": {
   "codemirror_mode": {
    "name": "ipython",
    "version": 3
   },
   "file_extension": ".py",
   "mimetype": "text/x-python",
   "name": "python",
   "nbconvert_exporter": "python",
   "pygments_lexer": "ipython3",
   "version": "3.13.0"
  }
 },
 "nbformat": 4,
 "nbformat_minor": 2
}
